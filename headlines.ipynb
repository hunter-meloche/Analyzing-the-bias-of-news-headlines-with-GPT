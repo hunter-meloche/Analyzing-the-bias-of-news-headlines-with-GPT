{
  "cells": [
    {
      "cell_type": "code",
      "execution_count": null,
      "metadata": {
        "id": "JMq5wjJ5j6X5"
      },
      "outputs": [],
      "source": [
        "!pip install BeautifulSoup4 requests IPython openai langchain selenium faiss-cpu IPython"
      ]
    },
    {
      "cell_type": "code",
      "source": [
        "!apt-get update\n",
        "!apt-get install -y firefox\n",
        "!apt-get install -y wget\n",
        "!wget https://github.com/mozilla/geckodriver/releases/download/v0.33.0/geckodriver-v0.33.0-linux64.tar.gz\n",
        "!tar -xvf geckodriver-v0.33.0-linux64.tar.gz\n",
        "!chmod +x geckodriver\n",
        "!mv geckodriver /usr/local/bin"
      ],
      "metadata": {
        "id": "C9_wohwrmShj"
      },
      "execution_count": null,
      "outputs": []
    },
    {
      "cell_type": "code",
      "source": [
        "os.environ['OPENAI_API_KEY'] = 'your_api_key_here'"
      ],
      "metadata": {
        "id": "a-IXn7o_k9TL"
      },
      "execution_count": null,
      "outputs": []
    },
    {
      "cell_type": "code",
      "execution_count": null,
      "metadata": {
        "id": "0Dyjfsmzj6X6"
      },
      "outputs": [],
      "source": [
        "import os\n",
        "import requests\n",
        "from bs4 import BeautifulSoup\n",
        "from selenium import webdriver\n",
        "from selenium.webdriver.firefox.options import Options\n",
        "from selenium.webdriver.firefox.service import Service\n",
        "\n",
        "# Set up the Chrome WebDriver\n",
        "firefox_options = Options()\n",
        "firefox_options.add_argument('-headless')\n",
        "driver = webdriver.Firefox(options=firefox_options)\n",
        "\n",
        "# Get CNN homepage HTML\n",
        "driver.get('https://www.cnn.com')\n",
        "content = driver.page_source\n",
        "\n",
        "# Parse CNN homepage with BeautifulSoup for headlines\n",
        "soup = BeautifulSoup(content, 'html.parser')\n",
        "elements = soup.find_all(class_='cd__headline-text vid-left-enabled')\n",
        "elements_strings = [element.get_text(strip=True) for element in elements]\n",
        "cnn_headlines = 'NewsSource1 Headlines:\\n\\n' + '\\n\\n'.join(elements_strings) + '\\n\\n\\n\\n'\n",
        "\n",
        "# Get FOX homepage HTML\n",
        "driver.get('https://www.foxnews.com')\n",
        "content = driver.page_source\n",
        "\n",
        "# Parse FOX homepage with BeautifulSoup for headlines\n",
        "soup = BeautifulSoup(content, 'html.parser')\n",
        "elements = soup.find_all(class_='title')\n",
        "elements_strings = [element.get_text(strip=True) for element in elements]\n",
        "fox_headlines = 'NewsCorp2 Headlines:\\n\\n' + '\\n\\n'.join(elements_strings)\n",
        "\n",
        "# Combine headlines\n",
        "headlines = cnn_headlines + fox_headlines\n",
        "\n",
        "# Close the WebDriver\n",
        "driver.quit()"
      ]
    },
    {
      "cell_type": "code",
      "execution_count": null,
      "metadata": {
        "id": "QzYn6nbrj6X8"
      },
      "outputs": [],
      "source": [
        "from langchain.chains.question_answering import load_qa_chain\n",
        "from langchain.chains import AnalyzeDocumentChain\n",
        "from langchain.text_splitter import RecursiveCharacterTextSplitter\n",
        "from langchain.vectorstores import FAISS\n",
        "from langchain.embeddings.openai import OpenAIEmbeddings\n",
        "from langchain.chains import RetrievalQA\n",
        "from langchain.chat_models import ChatOpenAI\n",
        "\n",
        "# Create embedding and setup QA for ChatGPT\n",
        "text_splitter = RecursiveCharacterTextSplitter(chunk_size=1000, chunk_overlap=0)\n",
        "texts = text_splitter.split_text(headlines)\n",
        "embeddings = OpenAIEmbeddings(openai_api_key=os.environ['OPENAI_API_KEY'])\n",
        "vectorstore = FAISS.from_texts(texts, embeddings)\n",
        "qa = RetrievalQA.from_chain_type(llm=ChatOpenAI(model='gpt-3.5-turbo'), chain_type=\"stuff\", retriever=vectorstore.as_retriever())"
      ]
    },
    {
      "cell_type": "code",
      "execution_count": null,
      "metadata": {
        "id": "QeRVwXXYj6X9"
      },
      "outputs": [],
      "source": [
        "# Define prompt\n",
        "prompt = '''\n",
        "Compare the headlines of NewsSource1 and NewsCorp2.\n",
        "What do they each say about Trump?\n",
        "Which is more critical of Trump and why is this?\n",
        "Which party does the more critical group most likely represent?\n",
        "What are that audiences' beliefs and values?\n",
        "'''\n",
        "\n",
        "# Send prompt to ChatGPT\n",
        "response = qa.run(prompt)"
      ]
    },
    {
      "cell_type": "code",
      "execution_count": null,
      "metadata": {
        "id": "A5SizqWpj6X-",
        "outputId": "708af4f3-154d-44b8-967c-6507e9493199"
      },
      "outputs": [
        {
          "data": {
            "text/markdown": [
              "NewsSource1 headlines focus entirely on Trump, with several stories detailing his current legal issues and controversies. They suggest negative developments for the former president with phrases like \"terrible idea,\" \"problem,\" and \"grave national drama.\"\n",
              "\n",
              "In contrast, NewsCorp2 has only one headline directly about Trump, which simply mentions his arraignment. The other headlines cover a range of topics, including human interest stories, crime, and business news.\n",
              "\n",
              "Overall, NewsSource1 is more critical of Trump. This is because they have multiple articles focused on his legal issues and use negative language in their headlines. NewsCorp2, on the other hand, only has one article about Trump, which uses neutral language.\n",
              "\n",
              "Without more information about the respective audiences and their values and beliefs, it is difficult to determine which party each news source most likely represents. However, it is possible that NewsSource1's audience might be more likely to have liberal or Democratic leanings, given the critical focus on Trump and use of language like \"Whistleblower says this Trump move would be a 'terrible idea'\" and \"Majority of Americans approve of Trump indictment.\" NewsCorp2's audience might be more neutral or conservative, given the range of topics covered and the lack of any clear bias in their coverage."
            ],
            "text/plain": [
              "<IPython.core.display.Markdown object>"
            ]
          },
          "metadata": {},
          "output_type": "display_data"
        }
      ],
      "source": [
        "from IPython.display import display, Markdown\n",
        "\n",
        "# Display ChatGPT's response\n",
        "display(Markdown(response))"
      ]
    },
    {
      "cell_type": "code",
      "execution_count": null,
      "metadata": {
        "id": "YZ_gCA1tj6X_"
      },
      "outputs": [],
      "source": []
    }
  ],
  "metadata": {
    "kernelspec": {
      "display_name": "Python 3 (ipykernel)",
      "language": "python",
      "name": "python3"
    },
    "language_info": {
      "codemirror_mode": {
        "name": "ipython",
        "version": 3
      },
      "file_extension": ".py",
      "mimetype": "text/x-python",
      "name": "python",
      "nbconvert_exporter": "python",
      "pygments_lexer": "ipython3",
      "version": "3.11.2"
    },
    "colab": {
      "provenance": []
    }
  },
  "nbformat": 4,
  "nbformat_minor": 0
}
